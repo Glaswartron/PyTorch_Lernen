{
 "cells": [
  {
   "cell_type": "code",
   "execution_count": 7,
   "metadata": {},
   "outputs": [],
   "source": [
    "import torch\n",
    "import torch.nn as nn\n",
    "import torchvision\n",
    "import torch.nn.functional as F\n",
    "import torch.optim as optim\n",
    "import torchvision.transforms as transforms\n",
    "\n",
    "import pytorch_lightning as pl\n",
    "\n",
    "import os\n",
    "import random"
   ]
  },
  {
   "cell_type": "code",
   "execution_count": 2,
   "metadata": {},
   "outputs": [],
   "source": [
    "# Reproducibility\n",
    "seed = 42\n",
    "torch.manual_seed(seed)\n",
    "torch.backends.cudnn.deterministic = True\n",
    "torch.backends.cudnn.benchmark = False\n",
    "random.seed(0)"
   ]
  },
  {
   "cell_type": "code",
   "execution_count": 3,
   "metadata": {},
   "outputs": [],
   "source": [
    "# Hyperparameters\n",
    "input_size = 784\n",
    "hidden_size = 500\n",
    "num_classes = 10\n",
    "num_epochs = 10\n",
    "batch_size = 100\n",
    "learning_rate = 0.001"
   ]
  },
  {
   "cell_type": "code",
   "execution_count": 4,
   "metadata": {},
   "outputs": [],
   "source": [
    "class LitNeuralNetwork(pl.LightningModule):\n",
    "    def __init__(self, input_size, hidden_size, output_size, datasets):\n",
    "        super(LitNeuralNetwork, self).__init__()\n",
    "\n",
    "        self.train_dataset = datasets[\"train\"]\n",
    "        self.val_dataset = datasets[\"val\"]\n",
    "        self.test_dataset = datasets[\"test\"]\n",
    "\n",
    "        self.input_size = input_size\n",
    "        self.l1 = nn.Linear(input_size, hidden_size)\n",
    "        self.relu = nn.ReLU()\n",
    "        self.l2 = nn.Linear(hidden_size, output_size)\n",
    "\n",
    "        # For accumulating loss (manually)\n",
    "        # self.train_step_losses = []\n",
    "        # self.validation_step_losses = [] \n",
    "\n",
    "    def forward(self, x):\n",
    "        x = self.l1(x)\n",
    "        x = self.relu(x)\n",
    "        x = self.l2(x)\n",
    "        return x\n",
    "    \n",
    "    # Called for every training batch during training\n",
    "    def training_step(self, batch, batch_idx):\n",
    "        images, labels = batch\n",
    "        images = images.reshape(-1, 28*28)\n",
    "\n",
    "        # Forward pass\n",
    "        outputs = self(images)\n",
    "        loss = F.cross_entropy(outputs, labels)\n",
    "\n",
    "        # self.train_step_losses.append(loss)\n",
    "        self.log(\"train_loss\", loss, on_epoch=True, prog_bar=True)\n",
    "\n",
    "        return {\"loss\": loss} # Must return a dictionary\n",
    "    \n",
    "    # Called for every validation batch during training\n",
    "    # Only works if you have a validation dataloader\n",
    "    def validation_step(self, batch, batch_idx):\n",
    "        images, labels = batch\n",
    "        images = images.reshape(-1, 28*28)\n",
    "\n",
    "        # Forward pass\n",
    "        outputs = self(images)\n",
    "        loss = F.cross_entropy(outputs, labels)\n",
    "\n",
    "        # self.validation_step_losses.append(loss)\n",
    "        # Accumulates loss during epoch and does mean reduction by default\n",
    "        self.log(\"val_loss\", loss, on_epoch=True, prog_bar=True)\n",
    "\n",
    "        return {\"loss\": loss} # Must return a dictionary\n",
    "    \n",
    "    def configure_optimizers(self):\n",
    "        optimizer = optim.Adam(self.parameters(), lr=learning_rate)\n",
    "        return optimizer\n",
    "    \n",
    "    # Returns the dataloader for the training\n",
    "    def train_dataloader(self):\n",
    "        train_loader = torch.utils.data.DataLoader(dataset=self.train_dataset,\n",
    "                                                    batch_size=batch_size,\n",
    "                                                    shuffle=True)\n",
    "        return train_loader\n",
    "    \n",
    "    def val_dataloader(self):\n",
    "        val_loader = torch.utils.data.DataLoader(dataset=self.val_dataset,\n",
    "                                                    batch_size=batch_size,\n",
    "                                                    shuffle=False)\n",
    "        return val_loader\n",
    "    \n",
    "    def test_dataloader(self):\n",
    "        test_loader = torch.utils.data.DataLoader(dataset=self.test_dataset,\n",
    "                                            batch_size=batch_size,\n",
    "                                            shuffle=False)\n",
    "        return test_loader\n",
    "    \n",
    "    # def on_train_epoch_end(self, ):\n",
    "    #     avg_loss = torch.stack(self.train_step_losses).mean()\n",
    "    #     self.log(\"train_loss\", avg_loss, prog_bar=True)\n",
    "    #     self.train_step_losses = []\n",
    "    \n",
    "    # def on_validation_epoch_end(self):\n",
    "    #     avg_loss = torch.stack(self.validation_step_losses).mean()\n",
    "    #     self.log(\"val_loss\", avg_loss, prog_bar=True)\n",
    "    #     self.validation_step_losses = []"
   ]
  },
  {
   "cell_type": "code",
   "execution_count": 5,
   "metadata": {},
   "outputs": [],
   "source": [
    "transform = transforms.Compose([transforms.ToTensor(), transforms.Normalize((0.5,), (0.5,))])\n",
    "\n",
    "train_dataset = torchvision.datasets.MNIST(root=\"./data\", train=True,\n",
    "                                            transform=transform,\n",
    "                                            download=True)\n",
    "train_dataset, val_dataset = torch.utils.data.random_split(train_dataset, [0.8, 0.2])\n",
    "\n",
    "test_dataset = torchvision.datasets.MNIST(root=\"./data\", train=False,\n",
    "                                            transform=transform)\n",
    "\n",
    "datasets = {\"train\": train_dataset, \"val\": val_dataset, \"test\": test_dataset}"
   ]
  },
  {
   "cell_type": "code",
   "execution_count": 6,
   "metadata": {},
   "outputs": [
    {
     "name": "stderr",
     "output_type": "stream",
     "text": [
      "Trainer will use only 1 of 2 GPUs because it is running inside an interactive / notebook environment. You may try to set `Trainer(devices=2)` but please note that multi-GPU inside interactive / notebook environments is considered experimental and unstable. Your mileage may vary.\n",
      "GPU available: True (cuda), used: True\n",
      "TPU available: False, using: 0 TPU cores\n",
      "IPU available: False, using: 0 IPUs\n",
      "HPU available: False, using: 0 HPUs\n",
      "You are using a CUDA device ('NVIDIA GeForce RTX 3090') that has Tensor Cores. To properly utilize them, you should set `torch.set_float32_matmul_precision('medium' | 'high')` which will trade-off precision for performance. For more details, read https://pytorch.org/docs/stable/generated/torch.set_float32_matmul_precision.html#torch.set_float32_matmul_precision\n",
      "LOCAL_RANK: 0 - CUDA_VISIBLE_DEVICES: [0,1]\n",
      "\n",
      "  | Name | Type   | Params\n",
      "--------------------------------\n",
      "0 | l1   | Linear | 392 K \n",
      "1 | relu | ReLU   | 0     \n",
      "2 | l2   | Linear | 5.0 K \n",
      "--------------------------------\n",
      "397 K     Trainable params\n",
      "0         Non-trainable params\n",
      "397 K     Total params\n",
      "1.590     Total estimated model params size (MB)\n"
     ]
    },
    {
     "name": "stdout",
     "output_type": "stream",
     "text": [
      "Sanity Checking DataLoader 0:   0%|          | 0/2 [00:00<?, ?it/s]"
     ]
    },
    {
     "name": "stderr",
     "output_type": "stream",
     "text": [
      "c:\\Users\\localuserBW\\anaconda3\\envs\\BA_Benedikt_Wille\\Lib\\site-packages\\pytorch_lightning\\trainer\\connectors\\data_connector.py:441: The 'val_dataloader' does not have many workers which may be a bottleneck. Consider increasing the value of the `num_workers` argument` to `num_workers=31` in the `DataLoader` to improve performance.\n"
     ]
    },
    {
     "name": "stdout",
     "output_type": "stream",
     "text": [
      "                                                                           "
     ]
    },
    {
     "name": "stderr",
     "output_type": "stream",
     "text": [
      "c:\\Users\\localuserBW\\anaconda3\\envs\\BA_Benedikt_Wille\\Lib\\site-packages\\pytorch_lightning\\trainer\\connectors\\data_connector.py:441: The 'train_dataloader' does not have many workers which may be a bottleneck. Consider increasing the value of the `num_workers` argument` to `num_workers=31` in the `DataLoader` to improve performance.\n"
     ]
    },
    {
     "name": "stdout",
     "output_type": "stream",
     "text": [
      "Epoch 9: 100%|██████████| 480/480 [00:05<00:00, 95.71it/s, v_num=0, train_loss_step=0.0524, val_loss=0.0941, train_loss_epoch=0.042]   "
     ]
    },
    {
     "name": "stderr",
     "output_type": "stream",
     "text": [
      "`Trainer.fit` stopped: `max_epochs=10` reached.\n"
     ]
    },
    {
     "name": "stdout",
     "output_type": "stream",
     "text": [
      "Epoch 9: 100%|██████████| 480/480 [00:05<00:00, 95.44it/s, v_num=0, train_loss_step=0.0524, val_loss=0.0941, train_loss_epoch=0.042]\n"
     ]
    }
   ],
   "source": [
    "# Use fast_dev_run=True to test the model\n",
    "trainer = pl.Trainer(max_epochs=num_epochs)\n",
    "model = LitNeuralNetwork(input_size, hidden_size, num_classes, datasets)\n",
    "trainer.fit(model)"
   ]
  }
 ],
 "metadata": {
  "kernelspec": {
   "display_name": "BA_Benedikt_Wille",
   "language": "python",
   "name": "python3"
  },
  "language_info": {
   "codemirror_mode": {
    "name": "ipython",
    "version": 3
   },
   "file_extension": ".py",
   "mimetype": "text/x-python",
   "name": "python",
   "nbconvert_exporter": "python",
   "pygments_lexer": "ipython3",
   "version": "3.11.9"
  }
 },
 "nbformat": 4,
 "nbformat_minor": 2
}
