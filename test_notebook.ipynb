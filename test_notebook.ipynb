{
 "cells": [
  {
   "cell_type": "code",
   "execution_count": 16,
   "metadata": {},
   "outputs": [],
   "source": [
    "import torch.nn as nn\n",
    "import torch"
   ]
  },
  {
   "cell_type": "code",
   "execution_count": 27,
   "metadata": {},
   "outputs": [],
   "source": [
    "# Convolutional Neural Network class\n",
    "class ConvNet(nn.Module):\n",
    "    def __init__(self):\n",
    "        super(ConvNet, self).__init__()\n",
    "        self.conv1 = nn.Conv2d(3, 1, 5) \n",
    "\n",
    "    def forward(self, x):\n",
    "        pass"
   ]
  },
  {
   "cell_type": "code",
   "execution_count": 28,
   "metadata": {},
   "outputs": [
    {
     "data": {
      "text/plain": [
       "[Parameter containing:\n",
       " tensor([[[[ 0.0476, -0.0573,  0.1107, -0.0124, -0.0975],\n",
       "           [-0.0186, -0.0285, -0.0709, -0.0760,  0.0452],\n",
       "           [-0.0902, -0.0301, -0.0825, -0.0196,  0.0548],\n",
       "           [ 0.0552,  0.0602,  0.0383,  0.0098,  0.0641],\n",
       "           [-0.0799,  0.0920,  0.0545,  0.0547,  0.0076]],\n",
       " \n",
       "          [[ 0.1068, -0.0042, -0.0301, -0.0282,  0.0100],\n",
       "           [ 0.0954, -0.0710,  0.0470, -0.1089, -0.0575],\n",
       "           [-0.0286, -0.0735,  0.0364, -0.0938, -0.0373],\n",
       "           [-0.0834, -0.0697,  0.0075,  0.0600,  0.0222],\n",
       "           [-0.0673,  0.0856, -0.0374,  0.0318, -0.0688]],\n",
       " \n",
       "          [[ 0.0105,  0.0179, -0.0874, -0.0564,  0.1004],\n",
       "           [-0.1120,  0.0059,  0.0456, -0.0550, -0.1091],\n",
       "           [ 0.0389,  0.0906,  0.0788, -0.0705,  0.0579],\n",
       "           [-0.0195,  0.0261,  0.1139, -0.0020, -0.0506],\n",
       "           [ 0.0352, -0.0536,  0.0552, -0.0805, -0.0849]]]], requires_grad=True),\n",
       " Parameter containing:\n",
       " tensor([0.1112], requires_grad=True)]"
      ]
     },
     "execution_count": 28,
     "metadata": {},
     "output_type": "execute_result"
    }
   ],
   "source": [
    "model = ConvNet()\n",
    "\n",
    "list(model.parameters()) # Returns the parameters of the model"
   ]
  },
  {
   "cell_type": "code",
   "execution_count": null,
   "metadata": {},
   "outputs": [],
   "source": []
  }
 ],
 "metadata": {
  "kernelspec": {
   "display_name": "BA_Benedikt_Wille",
   "language": "python",
   "name": "python3"
  },
  "language_info": {
   "codemirror_mode": {
    "name": "ipython",
    "version": 3
   },
   "file_extension": ".py",
   "mimetype": "text/x-python",
   "name": "python",
   "nbconvert_exporter": "python",
   "pygments_lexer": "ipython3",
   "version": "3.11.9"
  }
 },
 "nbformat": 4,
 "nbformat_minor": 2
}
